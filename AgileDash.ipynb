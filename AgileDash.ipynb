{
  "cells": [
    {
      "cell_type": "markdown",
      "metadata": {
        "colab_type": "text",
        "id": "view-in-github"
      },
      "source": [
        "<a href=\"https://colab.research.google.com/github/ant358/agile-dash/blob/main/AgileDash.ipynb\" target=\"_parent\"><img src=\"https://colab.research.google.com/assets/colab-badge.svg\" alt=\"Open In Colab\"/></a>"
      ]
    },
    {
      "cell_type": "code",
      "execution_count": null,
      "metadata": {
        "colab": {
          "base_uri": "https://localhost:8080/"
        },
        "id": "hxNXyrLT17T2",
        "outputId": "4fa8c620-21e4-492a-fda9-8c74d50b9336"
      },
      "outputs": [],
      "source": [
        "# add the modules not already in colab\n",
        "!pip install jupyter-dash dash-bootstrap-components dash_daq"
      ]
    },
    {
      "cell_type": "code",
      "execution_count": null,
      "metadata": {
        "id": "1lee5kj-2Dtz"
      },
      "outputs": [],
      "source": [
        "from jupyter_dash import JupyterDash\n",
        "from dash import dcc, html, Input, Output\n",
        "import dash_daq as daq\n",
        "import dash_bootstrap_components as dbc"
      ]
    },
    {
      "cell_type": "code",
      "execution_count": null,
      "metadata": {
        "id": "pd0ebnRn2Dn_"
      },
      "outputs": [],
      "source": [
        "JupyterDash.infer_jupyter_proxy_config()"
      ]
    },
    {
      "cell_type": "code",
      "execution_count": null,
      "metadata": {
        "colab": {
          "base_uri": "https://localhost:8080/",
          "height": 52
        },
        "id": "1eCQFmXv2Vwh",
        "outputId": "48cfbeaf-f635-4bbb-8b54-9c61d8d395f5"
      },
      "outputs": [],
      "source": [
        "\n",
        "app = JupyterDash(__name__, external_stylesheets=[dbc.themes.CYBORG])\n",
        "\n",
        "# layout the app\n",
        "app.layout = html.Div([\n",
        "                # title\n",
        "                html.H1('The Scales of Agile', style={'width': '100%', \n",
        "                                                      'text-align': 'center',\n",
        "                                                      'display': 'inline-block'}),\n",
        "\n",
        "                # Gauge \n",
        "                html.Div([\n",
        "                daq.Gauge(\n",
        "                        id='agile-gauge',\n",
        "                        label=\"Agileness\",\n",
        "                        value=20,\n",
        "                        min=0,\n",
        "                        max=40,\n",
        "                        ), \n",
        "                        ], style={'width': '48%', \n",
        "                                  'align': 'left', \n",
        "                                  'display': 'inline-block'}\n",
        "                         ),\n",
        "                       \n",
        "                # sliders\n",
        "                html.Div([\n",
        "                dcc.Slider(0, 10, 1,\n",
        "                        value=5,\n",
        "                        id='indy_over_tools'\n",
        "                          ),\n",
        "\n",
        "                dcc.Slider(0, 10, 1,\n",
        "                        value=5,\n",
        "                        id='software_over_docs'\n",
        "                          ),\n",
        "              \n",
        "                dcc.Slider(0, 10, 1,\n",
        "                        value=5,\n",
        "                        id='collab_over_negotiation'\n",
        "                          ),\n",
        "\n",
        "                dcc.Slider(0, 10, 1,\n",
        "                        value=5,\n",
        "                        id='change_over_plans'\n",
        "                          ),\n",
        "                ],\n",
        "                style={'width': '48%', \n",
        "                       'align': 'right', \n",
        "                       'display': 'inline-block'}\n",
        "                ),\n",
        "              \n",
        "                html.Div(id='output-container')\n",
        "\n",
        "            ])\n",
        "\n",
        "@app.callback(\n",
        "    Output('agile-gauge', 'value'),\n",
        "    Input('indy_over_tools', 'value'),\n",
        "    Input('software_over_docs', 'value'),\n",
        "    Input('collab_over_negotiation', 'value'),\n",
        "    Input('change_over_plans', 'value')\n",
        "\n",
        "    )\n",
        "\n",
        "def update_output(indy_over_tools, \n",
        "                  software_over_docs, \n",
        "                  collab_over_negotiation,\n",
        "                  change_over_plans):\n",
        "    \n",
        "    return  (indy_over_tools +\n",
        "             software_over_docs +\n",
        "             collab_over_negotiation +\n",
        "             change_over_plans)\n",
        "    \n",
        "app.run_server(debug=True, )"
      ]
    },
    {
      "cell_type": "markdown",
      "metadata": {
        "id": "X4DHI58tDKcc"
      },
      "source": [
        "## Appendix  \n",
        "1) https://dash.plotly.com/  \n",
        "2) https://github.com/plotly/jupyter-dash/blob/master/notebooks/getting_started.ipynb  \n",
        "3) https://dash.plotly.com/dash-core-components/slider  \n",
        "4) https://agilemanifesto.org/  \n",
        "5) https://bootswatch.com/simplex/  \n"
      ]
    },
    {
      "cell_type": "code",
      "execution_count": null,
      "metadata": {
        "id": "RpAg1w53DVEi"
      },
      "outputs": [],
      "source": []
    }
  ],
  "metadata": {
    "colab": {
      "authorship_tag": "ABX9TyNvhAqT3zBGPm4ESC0J0zb8",
      "collapsed_sections": [],
      "include_colab_link": true,
      "provenance": []
    },
    "kernelspec": {
      "display_name": "Python 3",
      "name": "python3"
    },
    "language_info": {
      "name": "python"
    }
  },
  "nbformat": 4,
  "nbformat_minor": 0
}
