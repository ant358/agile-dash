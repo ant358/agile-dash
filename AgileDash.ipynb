{
  "cells": [
    {
      "cell_type": "markdown",
      "metadata": {
        "colab_type": "text",
        "id": "view-in-github"
      },
      "source": [
        "<a href=\"https://colab.research.google.com/github/ant358/agile-dash/blob/main/AgileDash.ipynb\" target=\"_parent\"><img src=\"https://colab.research.google.com/assets/colab-badge.svg\" alt=\"Open In Colab\"/></a>"
      ]
    },
    {
      "cell_type": "code",
      "execution_count": null,
      "metadata": {},
      "outputs": [],
      "source": [
        "# add the modules not already in colab\n",
        "!pip install jupyter-dash dash-bootstrap-components dash_daq"
      ]
    },
    {
      "cell_type": "code",
      "execution_count": 3,
      "metadata": {
        "id": "1lee5kj-2Dtz"
      },
      "outputs": [],
      "source": [
        "from jupyter_dash import JupyterDash\n",
        "from dash import dcc, html, Input, Output\n",
        "import dash_daq as daq\n",
        "import dash_bootstrap_components as dbc"
      ]
    },
    {
      "cell_type": "code",
      "execution_count": 5,
      "metadata": {
        "id": "pd0ebnRn2Dn_"
      },
      "outputs": [
        {
          "ename": "OSError",
          "evalue": "Unable to communicate with the jupyter_dash notebook or JupyterLab \nextension required to infer Jupyter configuration.",
          "output_type": "error",
          "traceback": [
            "\u001b[0;31m---------------------------------------------------------------------------\u001b[0m",
            "\u001b[0;31mOSError\u001b[0m                                   Traceback (most recent call last)",
            "Cell \u001b[0;32mIn [4], line 1\u001b[0m\n\u001b[0;32m----> 1\u001b[0m \u001b[43mJupyterDash\u001b[49m\u001b[38;5;241;43m.\u001b[39;49m\u001b[43minfer_jupyter_proxy_config\u001b[49m\u001b[43m(\u001b[49m\u001b[43m)\u001b[49m\n",
            "File \u001b[0;32m~/Documents/agile_dash/agile-dash/agile_dash/lib/python3.9/site-packages/jupyter_dash/jupyter_app.py:82\u001b[0m, in \u001b[0;36mJupyterDash.infer_jupyter_proxy_config\u001b[0;34m(cls)\u001b[0m\n\u001b[1;32m     79\u001b[0m     \u001b[39mreturn\u001b[39;00m\n\u001b[1;32m     80\u001b[0m \u001b[39melse\u001b[39;00m:\n\u001b[1;32m     81\u001b[0m     \u001b[39m# Assume classic notebook or JupyterLab\u001b[39;00m\n\u001b[0;32m---> 82\u001b[0m     _request_jupyter_config()\n",
            "File \u001b[0;32m~/Documents/agile_dash/agile-dash/agile_dash/lib/python3.9/site-packages/jupyter_dash/comms.py:72\u001b[0m, in \u001b[0;36m_request_jupyter_config\u001b[0;34m(timeout)\u001b[0m\n\u001b[1;32m     69\u001b[0m \u001b[39mwhile\u001b[39;00m \u001b[39mTrue\u001b[39;00m:\n\u001b[1;32m     70\u001b[0m     \u001b[39mif\u001b[39;00m (time\u001b[39m.\u001b[39mtime() \u001b[39m-\u001b[39m t0) \u001b[39m>\u001b[39m timeout:\n\u001b[1;32m     71\u001b[0m         \u001b[39m# give up\u001b[39;00m\n\u001b[0;32m---> 72\u001b[0m         \u001b[39mraise\u001b[39;00m \u001b[39mEnvironmentError\u001b[39;00m(\n\u001b[1;32m     73\u001b[0m             \u001b[39m\"\u001b[39m\u001b[39mUnable to communicate with the jupyter_dash notebook or JupyterLab \u001b[39m\u001b[39m\\n\u001b[39;00m\u001b[39m\"\u001b[39m\n\u001b[1;32m     74\u001b[0m             \u001b[39m\"\u001b[39m\u001b[39mextension required to infer Jupyter configuration.\u001b[39m\u001b[39m\"\u001b[39m\n\u001b[1;32m     75\u001b[0m         )\n\u001b[1;32m     76\u001b[0m     \u001b[39mif\u001b[39;00m _jupyter_comm_response_received():\n\u001b[1;32m     77\u001b[0m         \u001b[39mbreak\u001b[39;00m\n",
            "\u001b[0;31mOSError\u001b[0m: Unable to communicate with the jupyter_dash notebook or JupyterLab \nextension required to infer Jupyter configuration."
          ]
        }
      ],
      "source": [
        "JupyterDash.infer_jupyter_proxy_config()"
      ]
    },
    {
      "cell_type": "code",
      "execution_count": null,
      "metadata": {
        "id": "1eCQFmXv2Vwh"
      },
      "outputs": [],
      "source": [
        "\n",
        "app = JupyterDash(__name__, external_stylesheets=[dbc.themes.CYBORG])\n",
        "\n",
        "# layout the app\n",
        "app.layout = html.Div([\n",
        "                # title\n",
        "                html.H1('The Scales of Agile', style={'width': '100%', \n",
        "                                                      'text-align': 'center',\n",
        "                                                      'display': 'inline-block'}),\n",
        "\n",
        "                # Gauge \n",
        "                html.Div([\n",
        "                daq.Gauge(\n",
        "                        id='agile-gauge',\n",
        "                        label=\"Agileness\",\n",
        "                        value=20,\n",
        "                        min=0,\n",
        "                        max=40,\n",
        "                        ), \n",
        "                        ], style={'width': '48%', \n",
        "                                  'align': 'left', \n",
        "                                  'display': 'inline-block'}\n",
        "                         ),\n",
        "                       \n",
        "                # sliders\n",
        "                html.Div([\n",
        "                dcc.Slider(0, 10, 1,\n",
        "                        value=5,\n",
        "                        id='indy_over_tools'\n",
        "                          ),\n",
        "\n",
        "                dcc.Slider(0, 10, 1,\n",
        "                        value=5,\n",
        "                        id='software_over_docs'\n",
        "                          ),\n",
        "              \n",
        "                dcc.Slider(0, 10, 1,\n",
        "                        value=5,\n",
        "                        id='collab_over_negotiation'\n",
        "                          ),\n",
        "\n",
        "                dcc.Slider(0, 10, 1,\n",
        "                        value=5,\n",
        "                        id='change_over_plans'\n",
        "                          ),\n",
        "                ],\n",
        "                style={'width': '48%', \n",
        "                       'align': 'right', \n",
        "                       'display': 'inline-block'}\n",
        "                ),\n",
        "              \n",
        "                html.Div(id='output-container')\n",
        "\n",
        "            ])\n",
        "\n",
        "@app.callback(\n",
        "    Output('agile-gauge', 'value'),\n",
        "    Input('indy_over_tools', 'value'),\n",
        "    Input('software_over_docs', 'value'),\n",
        "    Input('collab_over_negotiation', 'value'),\n",
        "    Input('change_over_plans', 'value')\n",
        "\n",
        "    )\n",
        "\n",
        "def update_output(indy_over_tools, \n",
        "                  software_over_docs, \n",
        "                  collab_over_negotiation,\n",
        "                  change_over_plans):\n",
        "    \n",
        "    return  (indy_over_tools +\n",
        "             software_over_docs +\n",
        "             collab_over_negotiation +\n",
        "             change_over_plans)\n",
        "    \n",
        "app.run_server(debug=True, )"
      ]
    },
    {
      "cell_type": "markdown",
      "metadata": {
        "id": "X4DHI58tDKcc"
      },
      "source": [
        "## Appendix  \n",
        "1) https://dash.plotly.com/  \n",
        "2) https://github.com/plotly/jupyter-dash/blob/master/notebooks/getting_started.ipynb  \n",
        "3) https://dash.plotly.com/dash-core-components/slider  \n",
        "4) https://agilemanifesto.org/  \n",
        "5) https://bootswatch.com/simplex/  "
      ]
    },
    {
      "cell_type": "code",
      "execution_count": null,
      "metadata": {
        "id": "RpAg1w53DVEi"
      },
      "outputs": [],
      "source": []
    }
  ],
  "metadata": {
    "colab": {
      "authorship_tag": "ABX9TyPKXOy+bayqSqrCEp37IvZt",
      "collapsed_sections": [],
      "include_colab_link": true,
      "provenance": []
    },
    "kernelspec": {
      "display_name": "Python 3.9.12 ('agile_dash': venv)",
      "language": "python",
      "name": "python3"
    },
    "language_info": {
      "codemirror_mode": {
        "name": "ipython",
        "version": 3
      },
      "file_extension": ".py",
      "mimetype": "text/x-python",
      "name": "python",
      "nbconvert_exporter": "python",
      "pygments_lexer": "ipython3",
      "version": "3.9.12"
    },
    "vscode": {
      "interpreter": {
        "hash": "8a419740a606f9f0c31740536f416eff7f0260615471d48d2b40edce1f7f97c2"
      }
    }
  },
  "nbformat": 4,
  "nbformat_minor": 0
}
