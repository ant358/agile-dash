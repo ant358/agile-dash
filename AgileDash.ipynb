{
  "nbformat": 4,
  "nbformat_minor": 0,
  "metadata": {
    "colab": {
      "provenance": [],
      "collapsed_sections": [],
      "authorship_tag": "ABX9TyNgJH1CPeWwHdix97qDbmxZ",
      "include_colab_link": true
    },
    "kernelspec": {
      "name": "python3",
      "display_name": "Python 3"
    },
    "language_info": {
      "name": "python"
    }
  },
  "cells": [
    {
      "cell_type": "markdown",
      "metadata": {
        "id": "view-in-github",
        "colab_type": "text"
      },
      "source": [
        "<a href=\"https://colab.research.google.com/github/ant358/agile-dash/blob/main/AgileDash.ipynb\" target=\"_parent\"><img src=\"https://colab.research.google.com/assets/colab-badge.svg\" alt=\"Open In Colab\"/></a>"
      ]
    },
    {
      "cell_type": "code",
      "execution_count": 2,
      "metadata": {
        "id": "hxNXyrLT17T2",
        "colab": {
          "base_uri": "https://localhost:8080/"
        },
        "outputId": "b5eaf0b5-da35-452a-97d7-d0c01a57e32d"
      },
      "outputs": [
        {
          "output_type": "stream",
          "name": "stdout",
          "text": [
            "Looking in indexes: https://pypi.org/simple, https://us-python.pkg.dev/colab-wheels/public/simple/\n",
            "Collecting jupyter-dash\n",
            "  Downloading jupyter_dash-0.4.2-py3-none-any.whl (23 kB)\n",
            "Collecting dash_daq\n",
            "  Downloading dash_daq-0.5.0.tar.gz (642 kB)\n",
            "\u001b[K     |████████████████████████████████| 642 kB 37.3 MB/s \n",
            "\u001b[?25hCollecting dash-bootstrap-components\n",
            "  Downloading dash_bootstrap_components-1.2.1-py3-none-any.whl (216 kB)\n",
            "\u001b[K     |████████████████████████████████| 216 kB 77.7 MB/s \n",
            "\u001b[?25hRequirement already satisfied: ipykernel in /usr/local/lib/python3.7/dist-packages (from jupyter-dash) (5.3.4)\n",
            "Collecting ansi2html\n",
            "  Downloading ansi2html-1.8.0-py3-none-any.whl (16 kB)\n",
            "Collecting dash\n",
            "  Downloading dash-2.6.2-py3-none-any.whl (9.8 MB)\n",
            "\u001b[K     |████████████████████████████████| 9.8 MB 57.6 MB/s \n",
            "\u001b[?25hCollecting retrying\n",
            "  Downloading retrying-1.3.3.tar.gz (10 kB)\n",
            "Requirement already satisfied: requests in /usr/local/lib/python3.7/dist-packages (from jupyter-dash) (2.23.0)\n",
            "Requirement already satisfied: ipython in /usr/local/lib/python3.7/dist-packages (from jupyter-dash) (7.9.0)\n",
            "Requirement already satisfied: flask in /usr/local/lib/python3.7/dist-packages (from jupyter-dash) (1.1.4)\n",
            "Collecting nest-asyncio\n",
            "  Downloading nest_asyncio-1.5.5-py3-none-any.whl (5.2 kB)\n",
            "Collecting flask-compress\n",
            "  Downloading Flask_Compress-1.13-py3-none-any.whl (7.9 kB)\n",
            "Collecting dash-table==5.0.0\n",
            "  Downloading dash_table-5.0.0-py3-none-any.whl (3.9 kB)\n",
            "Collecting dash-html-components==2.0.0\n",
            "  Downloading dash_html_components-2.0.0-py3-none-any.whl (4.1 kB)\n",
            "Collecting dash-core-components==2.0.0\n",
            "  Downloading dash_core_components-2.0.0-py3-none-any.whl (3.8 kB)\n",
            "Requirement already satisfied: plotly>=5.0.0 in /usr/local/lib/python3.7/dist-packages (from dash->jupyter-dash) (5.5.0)\n",
            "Requirement already satisfied: Werkzeug<2.0,>=0.15 in /usr/local/lib/python3.7/dist-packages (from flask->jupyter-dash) (1.0.1)\n",
            "Requirement already satisfied: itsdangerous<2.0,>=0.24 in /usr/local/lib/python3.7/dist-packages (from flask->jupyter-dash) (1.1.0)\n",
            "Requirement already satisfied: click<8.0,>=5.1 in /usr/local/lib/python3.7/dist-packages (from flask->jupyter-dash) (7.1.2)\n",
            "Requirement already satisfied: Jinja2<3.0,>=2.10.1 in /usr/local/lib/python3.7/dist-packages (from flask->jupyter-dash) (2.11.3)\n",
            "Requirement already satisfied: MarkupSafe>=0.23 in /usr/local/lib/python3.7/dist-packages (from Jinja2<3.0,>=2.10.1->flask->jupyter-dash) (2.0.1)\n",
            "Requirement already satisfied: six in /usr/local/lib/python3.7/dist-packages (from plotly>=5.0.0->dash->jupyter-dash) (1.15.0)\n",
            "Requirement already satisfied: tenacity>=6.2.0 in /usr/local/lib/python3.7/dist-packages (from plotly>=5.0.0->dash->jupyter-dash) (8.0.1)\n",
            "Requirement already satisfied: importlib-metadata in /usr/local/lib/python3.7/dist-packages (from ansi2html->jupyter-dash) (4.12.0)\n",
            "Collecting brotli\n",
            "  Downloading Brotli-1.0.9-cp37-cp37m-manylinux1_x86_64.whl (357 kB)\n",
            "\u001b[K     |████████████████████████████████| 357 kB 93.3 MB/s \n",
            "\u001b[?25hRequirement already satisfied: zipp>=0.5 in /usr/local/lib/python3.7/dist-packages (from importlib-metadata->ansi2html->jupyter-dash) (3.8.1)\n",
            "Requirement already satisfied: typing-extensions>=3.6.4 in /usr/local/lib/python3.7/dist-packages (from importlib-metadata->ansi2html->jupyter-dash) (4.1.1)\n",
            "Requirement already satisfied: traitlets>=4.1.0 in /usr/local/lib/python3.7/dist-packages (from ipykernel->jupyter-dash) (5.1.1)\n",
            "Requirement already satisfied: jupyter-client in /usr/local/lib/python3.7/dist-packages (from ipykernel->jupyter-dash) (6.1.12)\n",
            "Requirement already satisfied: tornado>=4.2 in /usr/local/lib/python3.7/dist-packages (from ipykernel->jupyter-dash) (5.1.1)\n",
            "Requirement already satisfied: backcall in /usr/local/lib/python3.7/dist-packages (from ipython->jupyter-dash) (0.2.0)\n",
            "Requirement already satisfied: pygments in /usr/local/lib/python3.7/dist-packages (from ipython->jupyter-dash) (2.6.1)\n",
            "Requirement already satisfied: prompt-toolkit<2.1.0,>=2.0.0 in /usr/local/lib/python3.7/dist-packages (from ipython->jupyter-dash) (2.0.10)\n",
            "Collecting jedi>=0.10\n",
            "  Downloading jedi-0.18.1-py2.py3-none-any.whl (1.6 MB)\n",
            "\u001b[K     |████████████████████████████████| 1.6 MB 53.0 MB/s \n",
            "\u001b[?25hRequirement already satisfied: setuptools>=18.5 in /usr/local/lib/python3.7/dist-packages (from ipython->jupyter-dash) (57.4.0)\n",
            "Requirement already satisfied: pexpect in /usr/local/lib/python3.7/dist-packages (from ipython->jupyter-dash) (4.8.0)\n",
            "Requirement already satisfied: decorator in /usr/local/lib/python3.7/dist-packages (from ipython->jupyter-dash) (4.4.2)\n",
            "Requirement already satisfied: pickleshare in /usr/local/lib/python3.7/dist-packages (from ipython->jupyter-dash) (0.7.5)\n",
            "Requirement already satisfied: parso<0.9.0,>=0.8.0 in /usr/local/lib/python3.7/dist-packages (from jedi>=0.10->ipython->jupyter-dash) (0.8.3)\n",
            "Requirement already satisfied: wcwidth in /usr/local/lib/python3.7/dist-packages (from prompt-toolkit<2.1.0,>=2.0.0->ipython->jupyter-dash) (0.2.5)\n",
            "Requirement already satisfied: pyzmq>=13 in /usr/local/lib/python3.7/dist-packages (from jupyter-client->ipykernel->jupyter-dash) (23.2.1)\n",
            "Requirement already satisfied: jupyter-core>=4.6.0 in /usr/local/lib/python3.7/dist-packages (from jupyter-client->ipykernel->jupyter-dash) (4.11.1)\n",
            "Requirement already satisfied: python-dateutil>=2.1 in /usr/local/lib/python3.7/dist-packages (from jupyter-client->ipykernel->jupyter-dash) (2.8.2)\n",
            "Requirement already satisfied: ptyprocess>=0.5 in /usr/local/lib/python3.7/dist-packages (from pexpect->ipython->jupyter-dash) (0.7.0)\n",
            "Requirement already satisfied: certifi>=2017.4.17 in /usr/local/lib/python3.7/dist-packages (from requests->jupyter-dash) (2022.6.15)\n",
            "Requirement already satisfied: idna<3,>=2.5 in /usr/local/lib/python3.7/dist-packages (from requests->jupyter-dash) (2.10)\n",
            "Requirement already satisfied: urllib3!=1.25.0,!=1.25.1,<1.26,>=1.21.1 in /usr/local/lib/python3.7/dist-packages (from requests->jupyter-dash) (1.24.3)\n",
            "Requirement already satisfied: chardet<4,>=3.0.2 in /usr/local/lib/python3.7/dist-packages (from requests->jupyter-dash) (3.0.4)\n",
            "Building wheels for collected packages: dash-daq, retrying\n",
            "  Building wheel for dash-daq (setup.py) ... \u001b[?25l\u001b[?25hdone\n",
            "  Created wheel for dash-daq: filename=dash_daq-0.5.0-py3-none-any.whl size=669714 sha256=f9ad0a0f0a4ef8954dc22c9ecc469afec468722150958472596bdb2638c31eb0\n",
            "  Stored in directory: /root/.cache/pip/wheels/fe/54/53/a8d448db5592874db4313240571ca2c069e55f6a6b29bf5847\n",
            "  Building wheel for retrying (setup.py) ... \u001b[?25l\u001b[?25hdone\n",
            "  Created wheel for retrying: filename=retrying-1.3.3-py3-none-any.whl size=11447 sha256=d6c5393b08d88297305f0d4aebf6bd070962410572689511e7b36d42cb7bff7d\n",
            "  Stored in directory: /root/.cache/pip/wheels/f9/8d/8d/f6af3f7f9eea3553bc2fe6d53e4b287dad18b06a861ac56ddf\n",
            "Successfully built dash-daq retrying\n",
            "Installing collected packages: jedi, brotli, flask-compress, dash-table, dash-html-components, dash-core-components, retrying, nest-asyncio, dash, ansi2html, jupyter-dash, dash-daq, dash-bootstrap-components\n",
            "Successfully installed ansi2html-1.8.0 brotli-1.0.9 dash-2.6.2 dash-bootstrap-components-1.2.1 dash-core-components-2.0.0 dash-daq-0.5.0 dash-html-components-2.0.0 dash-table-5.0.0 flask-compress-1.13 jedi-0.18.1 jupyter-dash-0.4.2 nest-asyncio-1.5.5 retrying-1.3.3\n"
          ]
        }
      ],
      "source": [
        "!pip install jupyter-dash dash_daq dash-bootstrap-components"
      ]
    },
    {
      "cell_type": "code",
      "source": [
        "import dash_daq as daq\n",
        "import dash_bootstrap_components as dbc\n",
        "from jupyter_dash import JupyterDash\n",
        "from dash import dcc, html, Input, Output"
      ],
      "metadata": {
        "id": "1lee5kj-2Dtz"
      },
      "execution_count": 3,
      "outputs": []
    },
    {
      "cell_type": "code",
      "source": [
        "JupyterDash.infer_jupyter_proxy_config()\n"
      ],
      "metadata": {
        "id": "pd0ebnRn2Dn_"
      },
      "execution_count": 4,
      "outputs": []
    },
    {
      "cell_type": "code",
      "source": [
        "# the gauge \n",
        "gauge = [daq.Gauge(\n",
        "                id='agile-gauge',\n",
        "                color={\"gradient\":True,\n",
        "                       \"ranges\":{\"green\":[0,33],\n",
        "                       \"yellow\":[33,66],\n",
        "                       \"red\":[66,100]}},\n",
        "                scale={\"custom\": {\n",
        "                                0: {\"label\": \"Agile\", \n",
        "                                    'style': {'font-size' : 'large'}}, \n",
        "                                100: {\"label\" : \"Not Agile!\",\n",
        "                                      'style': {'font-size' : 'large'}}\n",
        "                                },\n",
        "                       \n",
        "                       },\n",
        "                label={\"label\": \"% Value Delivery Burden\",\n",
        "                       'style': {'font-size' : 'large'}},\n",
        "                labelPosition=\"bottom\",\n",
        "                value=50,\n",
        "                min=0,\n",
        "                max=100,\n",
        "                showCurrentValue=True,\n",
        "                units=None, # \"%\",\n",
        "                size=300,\n",
        "                # style={'font-size' : 'large'}\n",
        "                ), \n",
        "                ]"
      ],
      "metadata": {
        "id": "ecX4HzVk4DIA"
      },
      "execution_count": 49,
      "outputs": []
    },
    {
      "cell_type": "code",
      "source": [
        "# the sliders\n",
        "sliders = [\n",
        "        html.Br(),\n",
        "        dcc.Slider(\n",
        "                0, 25,\n",
        "                value=12.5,\n",
        "                id='indy_over_tools',\n",
        "                updatemode='drag',\n",
        "                vertical=False,\n",
        "                marks={\n",
        "                    0: {'label': 'Individuals and Interactions', \n",
        "                        'style': {'font-size': 'large'}},\n",
        "                    25:{'label': 'Processes and Tools', \n",
        "                        'style': {'font-size': 'large'}}\n",
        "                    },        \n",
        "                ),\n",
        "        html.Br(),\n",
        "        html.Br(),\n",
        "        dcc.Slider(\n",
        "                0, 25,\n",
        "                value=12.5,\n",
        "                id='software_over_docs',\n",
        "                updatemode='drag',\n",
        "                vertical=False,\n",
        "                marks={\n",
        "                    0: {'label': 'Delivering working products',\n",
        "                        'style': {'font-size': 'large'}},\n",
        "                    25:{'label': 'Delivering documentation',\n",
        "                        'style': {'font-size': 'large'}},\n",
        "                },\n",
        "                ),\n",
        "        html.Br(),\n",
        "        html.Br(),\n",
        "        dcc.Slider(\n",
        "                0, 25,\n",
        "                value=12.5,\n",
        "                id='collab_over_negotiation',\n",
        "                updatemode='drag',\n",
        "                vertical=False,\n",
        "                marks={\n",
        "                    0: {'label':'Customer collaboration',\n",
        "                        'style': {'font-size': 'large'}},\n",
        "                    25: {'label':'Contract negotiations',\n",
        "                         'style': {'font-size': 'large'}},\n",
        "                },\n",
        "                ),\n",
        "        html.Br(),\n",
        "        html.Br(),\n",
        "        dcc.Slider(\n",
        "                0, 25,\n",
        "                value=12.5,\n",
        "                id='change_over_plans',\n",
        "                updatemode='drag',\n",
        "                vertical=False,\n",
        "                marks={\n",
        "                    0: {'label':'Responding to change',\n",
        "                        'style': {'font-size': 'large'}},\n",
        "                    25: {'label':'Following a plan',\n",
        "                         'style': {'font-size': 'large'}},\n",
        "                },\n",
        "                ),\n",
        "         html.Br(),\n",
        "        ]"
      ],
      "metadata": {
        "id": "CPlDxYM14gRo"
      },
      "execution_count": 35,
      "outputs": []
    },
    {
      "cell_type": "code",
      "source": [
        "app = JupyterDash(__name__, external_stylesheets=[dbc.themes.SOLAR])\n",
        "\n",
        "# layout the app\n",
        "app.layout = html.Div([\n",
        "            dbc.Row([\n",
        "                # title\n",
        "                html.H2('The Scales of Agile', \n",
        "                        style={'width': '100%', \n",
        "                               'text-align': 'center'}\n",
        "                        ),\n",
        "            ]),\n",
        "            dbc.Row([\n",
        "                # left side\n",
        "                html.Div(gauge,\n",
        "                         \n",
        "                style={'width': '60%', \n",
        "                         'align': 'left', \n",
        "                         'display': 'inline-block'}\n",
        "                         ),\n",
        "                       \n",
        "                # right side\n",
        "                html.Div(sliders,\n",
        "                style={'width': '38%', \n",
        "                       'align': 'center', \n",
        "                       'display': 'inline-block'}\n",
        "                ),\n",
        "            ]),\n",
        "            ])\n",
        "\n",
        "@app.callback(\n",
        "    Output('agile-gauge', 'value'),\n",
        "    Input('indy_over_tools', 'value'),\n",
        "    Input('software_over_docs', 'value'),\n",
        "    Input('collab_over_negotiation', 'value'),\n",
        "    Input('change_over_plans', 'value')\n",
        "\n",
        "    )\n",
        "\n",
        "def update_output(indy_over_tools, \n",
        "                  software_over_docs, \n",
        "                  collab_over_negotiation,\n",
        "                  change_over_plans):\n",
        "    \n",
        "    return  (indy_over_tools +\n",
        "             software_over_docs +\n",
        "             collab_over_negotiation +\n",
        "             change_over_plans)\n",
        "\n",
        "# fire up the dashboard  \n",
        "app.run_server(debug=True)"
      ],
      "metadata": {
        "id": "1eCQFmXv2Vwh",
        "colab": {
          "base_uri": "https://localhost:8080/",
          "height": 52
        },
        "outputId": "28037f19-e59a-4581-99ef-877bf74b03f7"
      },
      "execution_count": 50,
      "outputs": [
        {
          "output_type": "stream",
          "name": "stdout",
          "text": [
            "Dash app running on:\n"
          ]
        },
        {
          "output_type": "display_data",
          "data": {
            "text/plain": [
              "<IPython.core.display.Javascript object>"
            ],
            "application/javascript": [
              "(async (port, path, text, element) => {\n",
              "    if (!google.colab.kernel.accessAllowed) {\n",
              "      return;\n",
              "    }\n",
              "    element.appendChild(document.createTextNode(''));\n",
              "    const url = await google.colab.kernel.proxyPort(port);\n",
              "    const anchor = document.createElement('a');\n",
              "    anchor.href = new URL(path, url).toString();\n",
              "    anchor.target = '_blank';\n",
              "    anchor.setAttribute('data-href', url + path);\n",
              "    anchor.textContent = text;\n",
              "    element.appendChild(anchor);\n",
              "  })(8050, \"/\", \"http://127.0.0.1:8050/\", window.element)"
            ]
          },
          "metadata": {}
        }
      ]
    },
    {
      "cell_type": "markdown",
      "source": [
        "## References   \n",
        "1) https://dash.plotly.com/  \n",
        "2) https://github.com/plotly/jupyter-dash/blob/master/notebooks/getting_started.ipynb  \n",
        "3) https://dash.plotly.com/dash-core-components/slider  \n",
        "4) https://dash.plotly.com/dash-daq/gauge  \n",
        "5) https://agilemanifesto.org/  \n",
        "6) https://bootswatch.com/simplex/  \n",
        "7) http://dash-bootstrap-components.opensource.faculty.ai/  \n",
        "\n"
      ],
      "metadata": {
        "id": "X4DHI58tDKcc"
      }
    },
    {
      "cell_type": "code",
      "source": [],
      "metadata": {
        "id": "RpAg1w53DVEi"
      },
      "execution_count": 7,
      "outputs": []
    }
  ]
}