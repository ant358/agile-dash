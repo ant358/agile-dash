{
  "nbformat": 4,
  "nbformat_minor": 0,
  "metadata": {
    "colab": {
      "provenance": [],
      "collapsed_sections": [],
      "authorship_tag": "ABX9TyN96hHGVQQg3lyiVXb9MaaD",
      "include_colab_link": true
    },
    "kernelspec": {
      "name": "python3",
      "display_name": "Python 3"
    },
    "language_info": {
      "name": "python"
    }
  },
  "cells": [
    {
      "cell_type": "markdown",
      "metadata": {
        "id": "view-in-github",
        "colab_type": "text"
      },
      "source": [
        "<a href=\"https://colab.research.google.com/github/ant358/agile-dash/blob/main/AgileDash.ipynb\" target=\"_parent\"><img src=\"https://colab.research.google.com/assets/colab-badge.svg\" alt=\"Open In Colab\"/></a>"
      ]
    },
    {
      "cell_type": "code",
      "execution_count": 1,
      "metadata": {
        "id": "hxNXyrLT17T2",
        "colab": {
          "base_uri": "https://localhost:8080/"
        },
        "outputId": "18ec5166-61a4-424b-cfe7-ddf2d72361d0"
      },
      "outputs": [
        {
          "output_type": "stream",
          "name": "stdout",
          "text": [
            "\u001b[K     |████████████████████████████████| 642 kB 11.5 MB/s \n",
            "\u001b[K     |████████████████████████████████| 216 kB 65.4 MB/s \n",
            "\u001b[K     |████████████████████████████████| 9.8 MB 51.0 MB/s \n",
            "\u001b[K     |████████████████████████████████| 357 kB 103.5 MB/s \n",
            "\u001b[K     |████████████████████████████████| 1.6 MB 65.0 MB/s \n",
            "\u001b[?25h  Building wheel for dash-daq (setup.py) ... \u001b[?25l\u001b[?25hdone\n",
            "  Building wheel for retrying (setup.py) ... \u001b[?25l\u001b[?25hdone\n"
          ]
        }
      ],
      "source": [
        "# install required modules not in colab by default\n",
        "!pip install --quiet jupyter-dash dash_daq dash-bootstrap-components"
      ]
    },
    {
      "cell_type": "code",
      "source": [
        "# load python modules\n",
        "import dash_daq as daq\n",
        "import dash_bootstrap_components as dbc\n",
        "import pandas as pd\n",
        "import numpy as np\n",
        "from jupyter_dash import JupyterDash\n",
        "from dash import dcc, html, Input, Output"
      ],
      "metadata": {
        "id": "1lee5kj-2Dtz"
      },
      "execution_count": 2,
      "outputs": []
    },
    {
      "cell_type": "code",
      "source": [
        "# setup the proxy\n",
        "JupyterDash.infer_jupyter_proxy_config()"
      ],
      "metadata": {
        "id": "pd0ebnRn2Dn_"
      },
      "execution_count": 3,
      "outputs": []
    },
    {
      "cell_type": "code",
      "source": [
        "# the gauge \n",
        "gauge = [daq.Gauge(\n",
        "                id='agile-gauge',\n",
        "                # make a colour gradient on the scale\n",
        "                color={\"gradient\":True,\n",
        "                       \"ranges\":{\"green\":[0,33],\n",
        "                       \"yellow\":[33,66],\n",
        "                       \"red\":[66,100]}},\n",
        "                # create a custom scale\n",
        "                scale={\"custom\": {\n",
        "                                0: {\"label\": \"Agile\", \n",
        "                                    'style': {'font-size' : 'large'}}, \n",
        "                                100: {\"label\" : \"Not Agile!\",\n",
        "                                      'style': {'font-size' : 'large'}}\n",
        "                                },\n",
        "                       \n",
        "                       },\n",
        "                # label the units\n",
        "                label={\n",
        "                    \"label\": \"% Value Delivery Burden\",\n",
        "                    \"style\": {\"font-size\" : \"large\"}\n",
        "                       },\n",
        "                labelPosition=\"bottom\",\n",
        "                # start the needle in the middle\n",
        "                value=50,\n",
        "                min=0,\n",
        "                max=100,\n",
        "                showCurrentValue=True,\n",
        "                units=None, \n",
        "                # set the size in pixels\n",
        "                size=300,\n",
        "                ), \n",
        "                ]"
      ],
      "metadata": {
        "id": "ecX4HzVk4DIA"
      },
      "execution_count": 4,
      "outputs": []
    },
    {
      "cell_type": "code",
      "source": [
        "# the sliders\n",
        "sliders = [\n",
        "        # put a blank line at the top\n",
        "        html.Br(),\n",
        "        # slider 1\n",
        "        dcc.Slider(\n",
        "                # set the scale\n",
        "                0, 25,\n",
        "                value=12.5,\n",
        "                id='indy_over_tools',\n",
        "                updatemode='drag',\n",
        "                vertical=False,\n",
        "                dots=True,\n",
        "                # set text labels at the ends instead of marks\n",
        "                marks={\n",
        "                    1: {'label': 'Individuals and Interactions', \n",
        "                        'style': {'font-size': 'large'}},\n",
        "                    25:{'label': 'Processes and Tools', \n",
        "                        'style': {'font-size': 'large'}}\n",
        "                    },        \n",
        "                ),\n",
        "        html.Br(),\n",
        "        html.Br(),\n",
        "        # slider 2\n",
        "        dcc.Slider(\n",
        "                0, 25,\n",
        "                value=12.5,\n",
        "                id='software_over_docs',\n",
        "                updatemode='drag',\n",
        "                vertical=False,\n",
        "                dots=True,\n",
        "                marks={\n",
        "                    0: {'label': 'Delivering working products',\n",
        "                        'style': {'font-size': 'large'}},\n",
        "                    25:{'label': 'Delivering documentation',\n",
        "                        'style': {'font-size': 'large'}},\n",
        "                },\n",
        "                ),\n",
        "        html.Br(),\n",
        "        html.Br(),\n",
        "        # slider 3\n",
        "        dcc.Slider(\n",
        "                0, 25,\n",
        "                value=12.5,\n",
        "                id='collab_over_negotiation',\n",
        "                updatemode='drag',\n",
        "                vertical=False,\n",
        "                dots=True,\n",
        "                marks={\n",
        "                    0: {'label':'Customer collaboration',\n",
        "                        'style': {'font-size': 'large'}},\n",
        "                    25: {'label':'Contract negotiations',\n",
        "                         'style': {'font-size': 'large'}},\n",
        "                },\n",
        "                ),\n",
        "        html.Br(),\n",
        "        html.Br(),\n",
        "        # slider 4\n",
        "        dcc.Slider(\n",
        "                0, 25,\n",
        "                value=12.5,\n",
        "                id='change_over_plans',\n",
        "                updatemode='drag',\n",
        "                vertical=False,\n",
        "                dots=True,\n",
        "                marks={\n",
        "                    0: {'label':'Responding to change',\n",
        "                        'style': {'font-size': 'large'}},\n",
        "                    25: {'label':'Following a plan',\n",
        "                         'style': {'font-size': 'large'}},\n",
        "                },\n",
        "                ),\n",
        "         html.Br(),\n",
        "        ]"
      ],
      "metadata": {
        "id": "CPlDxYM14gRo"
      },
      "execution_count": 5,
      "outputs": []
    },
    {
      "cell_type": "code",
      "source": [
        "# instantiate the app and set the bootstrap theme\n",
        "app = JupyterDash(__name__, external_stylesheets=[dbc.themes.SOLAR])\n",
        "\n",
        "# layout the app\n",
        "app.layout = html.Div([\n",
        "            html.Br(),\n",
        "            # first row\n",
        "            dbc.Row([\n",
        "                # title left\n",
        "                dbc.Col(\n",
        "                html.H3('Project Characteristics', \n",
        "                        style={'text-align': 'center'}\n",
        "                        ),\n",
        "                width={\"size\": 4, \"order\": 1, \"offset\": 1},\n",
        "                ),\n",
        "                # title right\n",
        "                dbc.Col(\n",
        "                html.H2('The Scales of Agile', \n",
        "                        style={'text-align': 'center'}\n",
        "                        ),\n",
        "                width={\"size\": 4, \"order\": 2, \"offset\": 0},\n",
        "                ),\n",
        "            ]),\n",
        "            # second row\n",
        "            dbc.Row([\n",
        "                # left side\n",
        "                dbc.Col(\n",
        "                html.Div(sliders),\n",
        "                width={\"size\": 4, \"order\": 1, \"offset\": 1},\n",
        "                    ), \n",
        "                # right side\n",
        "                dbc.Col(\n",
        "                html.Div(gauge),\n",
        "                width={\"size\": 4, \"order\": 2, \"offset\": 0},\n",
        "                    ),\n",
        "                ]),\n",
        "            ])\n",
        "# setup the interactivity\n",
        "@app.callback(\n",
        "    Output('agile-gauge', 'value'),\n",
        "    Input('indy_over_tools', 'value'),\n",
        "    Input('software_over_docs', 'value'),\n",
        "    Input('collab_over_negotiation', 'value'),\n",
        "    Input('change_over_plans', 'value')\n",
        "    )\n",
        "\n",
        "def update_output(indy_over_tools, \n",
        "                  software_over_docs, \n",
        "                  collab_over_negotiation,\n",
        "                  change_over_plans):\n",
        "    \"\"\"Add the slider values up\"\"\"\n",
        "    return  (indy_over_tools +\n",
        "             software_over_docs +\n",
        "             collab_over_negotiation +\n",
        "             change_over_plans)\n",
        "\n",
        "# fire up the dashboard  \n",
        "app.run_server(debug=True)"
      ],
      "metadata": {
        "id": "1eCQFmXv2Vwh",
        "colab": {
          "base_uri": "https://localhost:8080/",
          "height": 52
        },
        "outputId": "96418c28-1824-4061-f382-47ce64b935e9"
      },
      "execution_count": 6,
      "outputs": [
        {
          "output_type": "stream",
          "name": "stdout",
          "text": [
            "Dash app running on:\n"
          ]
        },
        {
          "output_type": "display_data",
          "data": {
            "text/plain": [
              "<IPython.core.display.Javascript object>"
            ],
            "application/javascript": [
              "(async (port, path, text, element) => {\n",
              "    if (!google.colab.kernel.accessAllowed) {\n",
              "      return;\n",
              "    }\n",
              "    element.appendChild(document.createTextNode(''));\n",
              "    const url = await google.colab.kernel.proxyPort(port);\n",
              "    const anchor = document.createElement('a');\n",
              "    anchor.href = new URL(path, url).toString();\n",
              "    anchor.target = '_blank';\n",
              "    anchor.setAttribute('data-href', url + path);\n",
              "    anchor.textContent = text;\n",
              "    element.appendChild(anchor);\n",
              "  })(8050, \"/\", \"http://127.0.0.1:8050/\", window.element)"
            ]
          },
          "metadata": {}
        }
      ]
    }
  ]
}